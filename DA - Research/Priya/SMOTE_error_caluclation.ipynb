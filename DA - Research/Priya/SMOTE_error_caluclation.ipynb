{
  "nbformat": 4,
  "nbformat_minor": 0,
  "metadata": {
    "colab": {
      "provenance": []
    },
    "kernelspec": {
      "name": "python3",
      "display_name": "Python 3"
    },
    "language_info": {
      "name": "python"
    }
  },
  "cells": [
    {
      "cell_type": "code",
      "source": [
        "pip install sdgne"
      ],
      "metadata": {
        "colab": {
          "base_uri": "https://localhost:8080/"
        },
        "id": "lj41CyaLe68_",
        "outputId": "dde0425b-2bb4-4534-d99d-b4d71c1efd14"
      },
      "execution_count": 2,
      "outputs": [
        {
          "output_type": "stream",
          "name": "stdout",
          "text": [
            "Collecting sdgne\n",
            "  Downloading sdgne-4.0.0-py3-none-any.whl.metadata (3.6 kB)\n",
            "Downloading sdgne-4.0.0-py3-none-any.whl (293 kB)\n",
            "\u001b[2K   \u001b[90m━━━━━━━━━━━━━━━━━━━━━━━━━━━━━━━━━━━━━━━━\u001b[0m \u001b[32m293.3/293.3 kB\u001b[0m \u001b[31m3.3 MB/s\u001b[0m eta \u001b[36m0:00:00\u001b[0m\n",
            "\u001b[?25hInstalling collected packages: sdgne\n",
            "Successfully installed sdgne-4.0.0\n"
          ]
        }
      ]
    },
    {
      "cell_type": "code",
      "source": [
        "!pip install gretel-client"
      ],
      "metadata": {
        "colab": {
          "base_uri": "https://localhost:8080/"
        },
        "id": "BOOy41wae7AU",
        "outputId": "3480d53a-88f0-49f6-8346-1450cab08552"
      },
      "execution_count": 3,
      "outputs": [
        {
          "output_type": "stream",
          "name": "stdout",
          "text": [
            "Collecting gretel-client\n",
            "  Downloading gretel_client-0.26.0-py3-none-any.whl.metadata (4.2 kB)\n",
            "Requirement already satisfied: certifi>=2021.10.8 in /usr/local/lib/python3.11/dist-packages (from gretel-client) (2025.1.31)\n",
            "Requirement already satisfied: click<9,>=8.1.3 in /usr/local/lib/python3.11/dist-packages (from gretel-client) (8.1.8)\n",
            "Collecting inflection==0.5.1 (from gretel-client)\n",
            "  Downloading inflection-0.5.1-py2.py3-none-any.whl.metadata (1.7 kB)\n",
            "Requirement already satisfied: jinja2==3.1.6 in /usr/local/lib/python3.11/dist-packages (from gretel-client) (3.1.6)\n",
            "Requirement already satisfied: numpy>=1.23.5 in /usr/local/lib/python3.11/dist-packages (from gretel-client) (2.0.2)\n",
            "Requirement already satisfied: pandas>=1.1.0 in /usr/local/lib/python3.11/dist-packages (from gretel-client) (2.2.2)\n",
            "Collecting pycryptodome<4,>=3.19 (from gretel-client)\n",
            "  Downloading pycryptodome-3.22.0-cp37-abi3-manylinux_2_17_x86_64.manylinux2014_x86_64.whl.metadata (3.4 kB)\n",
            "Requirement already satisfied: pydantic>=2 in /usr/local/lib/python3.11/dist-packages (from gretel-client) (2.11.3)\n",
            "Requirement already satisfied: python-dateutil>=2.8.0 in /usr/local/lib/python3.11/dist-packages (from gretel-client) (2.8.2)\n",
            "Requirement already satisfied: pyyaml>=6.0.1 in /usr/local/lib/python3.11/dist-packages (from gretel-client) (6.0.2)\n",
            "Requirement already satisfied: requests<3,>=2.25 in /usr/local/lib/python3.11/dist-packages (from gretel-client) (2.32.3)\n",
            "Requirement already satisfied: rich>=13.7 in /usr/local/lib/python3.11/dist-packages (from gretel-client) (13.9.4)\n",
            "Requirement already satisfied: smart-open<8.0,>=2.1.0 in /usr/local/lib/python3.11/dist-packages (from gretel-client) (7.1.0)\n",
            "Requirement already satisfied: tabulate>=0.8.9 in /usr/local/lib/python3.11/dist-packages (from gretel-client) (0.9.0)\n",
            "Requirement already satisfied: tenacity>=8.2.2 in /usr/local/lib/python3.11/dist-packages (from gretel-client) (9.1.2)\n",
            "Requirement already satisfied: tqdm<5.0,>=4.66 in /usr/local/lib/python3.11/dist-packages (from gretel-client) (4.67.1)\n",
            "Requirement already satisfied: urllib3>=1.26.5 in /usr/local/lib/python3.11/dist-packages (from gretel-client) (2.3.0)\n",
            "Requirement already satisfied: MarkupSafe>=2.0 in /usr/local/lib/python3.11/dist-packages (from jinja2==3.1.6->gretel-client) (3.0.2)\n",
            "Requirement already satisfied: pytz>=2020.1 in /usr/local/lib/python3.11/dist-packages (from pandas>=1.1.0->gretel-client) (2025.2)\n",
            "Requirement already satisfied: tzdata>=2022.7 in /usr/local/lib/python3.11/dist-packages (from pandas>=1.1.0->gretel-client) (2025.2)\n",
            "Requirement already satisfied: annotated-types>=0.6.0 in /usr/local/lib/python3.11/dist-packages (from pydantic>=2->gretel-client) (0.7.0)\n",
            "Requirement already satisfied: pydantic-core==2.33.1 in /usr/local/lib/python3.11/dist-packages (from pydantic>=2->gretel-client) (2.33.1)\n",
            "Requirement already satisfied: typing-extensions>=4.12.2 in /usr/local/lib/python3.11/dist-packages (from pydantic>=2->gretel-client) (4.13.1)\n",
            "Requirement already satisfied: typing-inspection>=0.4.0 in /usr/local/lib/python3.11/dist-packages (from pydantic>=2->gretel-client) (0.4.0)\n",
            "Requirement already satisfied: six>=1.5 in /usr/local/lib/python3.11/dist-packages (from python-dateutil>=2.8.0->gretel-client) (1.17.0)\n",
            "Requirement already satisfied: charset-normalizer<4,>=2 in /usr/local/lib/python3.11/dist-packages (from requests<3,>=2.25->gretel-client) (3.4.1)\n",
            "Requirement already satisfied: idna<4,>=2.5 in /usr/local/lib/python3.11/dist-packages (from requests<3,>=2.25->gretel-client) (3.10)\n",
            "Requirement already satisfied: markdown-it-py>=2.2.0 in /usr/local/lib/python3.11/dist-packages (from rich>=13.7->gretel-client) (3.0.0)\n",
            "Requirement already satisfied: pygments<3.0.0,>=2.13.0 in /usr/local/lib/python3.11/dist-packages (from rich>=13.7->gretel-client) (2.18.0)\n",
            "Requirement already satisfied: wrapt in /usr/local/lib/python3.11/dist-packages (from smart-open<8.0,>=2.1.0->gretel-client) (1.17.2)\n",
            "Requirement already satisfied: mdurl~=0.1 in /usr/local/lib/python3.11/dist-packages (from markdown-it-py>=2.2.0->rich>=13.7->gretel-client) (0.1.2)\n",
            "Downloading gretel_client-0.26.0-py3-none-any.whl (531 kB)\n",
            "\u001b[2K   \u001b[90m━━━━━━━━━━━━━━━━━━━━━━━━━━━━━━━━━━━━━━━━\u001b[0m \u001b[32m531.6/531.6 kB\u001b[0m \u001b[31m4.6 MB/s\u001b[0m eta \u001b[36m0:00:00\u001b[0m\n",
            "\u001b[?25hDownloading inflection-0.5.1-py2.py3-none-any.whl (9.5 kB)\n",
            "Downloading pycryptodome-3.22.0-cp37-abi3-manylinux_2_17_x86_64.manylinux2014_x86_64.whl (2.3 MB)\n",
            "\u001b[2K   \u001b[90m━━━━━━━━━━━━━━━━━━━━━━━━━━━━━━━━━━━━━━━━\u001b[0m \u001b[32m2.3/2.3 MB\u001b[0m \u001b[31m34.7 MB/s\u001b[0m eta \u001b[36m0:00:00\u001b[0m\n",
            "\u001b[?25hInstalling collected packages: pycryptodome, inflection, gretel-client\n",
            "Successfully installed gretel-client-0.26.0 inflection-0.5.1 pycryptodome-3.22.0\n"
          ]
        }
      ]
    },
    {
      "cell_type": "code",
      "source": [
        "df = pd.read_excel('Combined_AM_Data.xlsx')\n",
        "X = df.drop('class', axis=1)\n",
        "y = df['class']"
      ],
      "metadata": {
        "id": "Xmv8N_Dle7Ei"
      },
      "execution_count": 24,
      "outputs": []
    },
    {
      "cell_type": "code",
      "source": [
        "df.head()"
      ],
      "metadata": {
        "colab": {
          "base_uri": "https://localhost:8080/",
          "height": 322
        },
        "id": "NVZsbD60iCUu",
        "outputId": "5342a6b9-41eb-42d4-987d-603f0985a7b1"
      },
      "execution_count": 25,
      "outputs": [
        {
          "output_type": "execute_result",
          "data": {
            "text/plain": [
              "       id       date  age  sex     BMI  income  road_dist  cooking  \\\n",
              "0  SB-001 2017-11-02   66    1  31.766     0.0        0.5      0.5   \n",
              "1  SB-001 2017-11-03   66    1  31.766     0.0        0.5      0.5   \n",
              "2  SB-001 2017-11-04   66    1  31.766     0.0        0.5      0.5   \n",
              "3  SB-001 2017-11-05   66    1  31.766     0.0        0.5      0.5   \n",
              "4  SB-001 2017-11-06   66    1  31.766     0.0        0.5      0.5   \n",
              "\n",
              "   am_pef_org  y_am_pef  ...  windsd  humid   varp  dewpt   airp   seap  \\\n",
              "0       125.0     0.284  ...   0.226  0.774  0.772  0.906  0.536  0.518   \n",
              "1       244.0     0.000  ...   0.281  0.851  0.832  0.933  0.454  0.437   \n",
              "2       339.0     0.264  ...   0.692  0.430  0.367  0.647  0.646  0.633   \n",
              "3       301.0     0.475  ...   0.190  0.260  0.248  0.544  0.898  0.883   \n",
              "4       255.0     0.390  ...   0.089  0.463  0.428  0.708  0.815  0.796   \n",
              "\n",
              "   solrhr  solramnt   grdt  class  \n",
              "0   0.311     0.202  0.836      0  \n",
              "1   0.083     0.112  0.815      0  \n",
              "2   0.575     0.235  0.644      1  \n",
              "3   0.746     0.274  0.601      1  \n",
              "4   0.492     0.232  0.710      1  \n",
              "\n",
              "[5 rows x 34 columns]"
            ],
            "text/html": [
              "\n",
              "  <div id=\"df-22b9b314-18d8-4e28-9a55-9b8a62727b70\" class=\"colab-df-container\">\n",
              "    <div>\n",
              "<style scoped>\n",
              "    .dataframe tbody tr th:only-of-type {\n",
              "        vertical-align: middle;\n",
              "    }\n",
              "\n",
              "    .dataframe tbody tr th {\n",
              "        vertical-align: top;\n",
              "    }\n",
              "\n",
              "    .dataframe thead th {\n",
              "        text-align: right;\n",
              "    }\n",
              "</style>\n",
              "<table border=\"1\" class=\"dataframe\">\n",
              "  <thead>\n",
              "    <tr style=\"text-align: right;\">\n",
              "      <th></th>\n",
              "      <th>id</th>\n",
              "      <th>date</th>\n",
              "      <th>age</th>\n",
              "      <th>sex</th>\n",
              "      <th>BMI</th>\n",
              "      <th>income</th>\n",
              "      <th>road_dist</th>\n",
              "      <th>cooking</th>\n",
              "      <th>am_pef_org</th>\n",
              "      <th>y_am_pef</th>\n",
              "      <th>...</th>\n",
              "      <th>windsd</th>\n",
              "      <th>humid</th>\n",
              "      <th>varp</th>\n",
              "      <th>dewpt</th>\n",
              "      <th>airp</th>\n",
              "      <th>seap</th>\n",
              "      <th>solrhr</th>\n",
              "      <th>solramnt</th>\n",
              "      <th>grdt</th>\n",
              "      <th>class</th>\n",
              "    </tr>\n",
              "  </thead>\n",
              "  <tbody>\n",
              "    <tr>\n",
              "      <th>0</th>\n",
              "      <td>SB-001</td>\n",
              "      <td>2017-11-02</td>\n",
              "      <td>66</td>\n",
              "      <td>1</td>\n",
              "      <td>31.766</td>\n",
              "      <td>0.0</td>\n",
              "      <td>0.5</td>\n",
              "      <td>0.5</td>\n",
              "      <td>125.0</td>\n",
              "      <td>0.284</td>\n",
              "      <td>...</td>\n",
              "      <td>0.226</td>\n",
              "      <td>0.774</td>\n",
              "      <td>0.772</td>\n",
              "      <td>0.906</td>\n",
              "      <td>0.536</td>\n",
              "      <td>0.518</td>\n",
              "      <td>0.311</td>\n",
              "      <td>0.202</td>\n",
              "      <td>0.836</td>\n",
              "      <td>0</td>\n",
              "    </tr>\n",
              "    <tr>\n",
              "      <th>1</th>\n",
              "      <td>SB-001</td>\n",
              "      <td>2017-11-03</td>\n",
              "      <td>66</td>\n",
              "      <td>1</td>\n",
              "      <td>31.766</td>\n",
              "      <td>0.0</td>\n",
              "      <td>0.5</td>\n",
              "      <td>0.5</td>\n",
              "      <td>244.0</td>\n",
              "      <td>0.000</td>\n",
              "      <td>...</td>\n",
              "      <td>0.281</td>\n",
              "      <td>0.851</td>\n",
              "      <td>0.832</td>\n",
              "      <td>0.933</td>\n",
              "      <td>0.454</td>\n",
              "      <td>0.437</td>\n",
              "      <td>0.083</td>\n",
              "      <td>0.112</td>\n",
              "      <td>0.815</td>\n",
              "      <td>0</td>\n",
              "    </tr>\n",
              "    <tr>\n",
              "      <th>2</th>\n",
              "      <td>SB-001</td>\n",
              "      <td>2017-11-04</td>\n",
              "      <td>66</td>\n",
              "      <td>1</td>\n",
              "      <td>31.766</td>\n",
              "      <td>0.0</td>\n",
              "      <td>0.5</td>\n",
              "      <td>0.5</td>\n",
              "      <td>339.0</td>\n",
              "      <td>0.264</td>\n",
              "      <td>...</td>\n",
              "      <td>0.692</td>\n",
              "      <td>0.430</td>\n",
              "      <td>0.367</td>\n",
              "      <td>0.647</td>\n",
              "      <td>0.646</td>\n",
              "      <td>0.633</td>\n",
              "      <td>0.575</td>\n",
              "      <td>0.235</td>\n",
              "      <td>0.644</td>\n",
              "      <td>1</td>\n",
              "    </tr>\n",
              "    <tr>\n",
              "      <th>3</th>\n",
              "      <td>SB-001</td>\n",
              "      <td>2017-11-05</td>\n",
              "      <td>66</td>\n",
              "      <td>1</td>\n",
              "      <td>31.766</td>\n",
              "      <td>0.0</td>\n",
              "      <td>0.5</td>\n",
              "      <td>0.5</td>\n",
              "      <td>301.0</td>\n",
              "      <td>0.475</td>\n",
              "      <td>...</td>\n",
              "      <td>0.190</td>\n",
              "      <td>0.260</td>\n",
              "      <td>0.248</td>\n",
              "      <td>0.544</td>\n",
              "      <td>0.898</td>\n",
              "      <td>0.883</td>\n",
              "      <td>0.746</td>\n",
              "      <td>0.274</td>\n",
              "      <td>0.601</td>\n",
              "      <td>1</td>\n",
              "    </tr>\n",
              "    <tr>\n",
              "      <th>4</th>\n",
              "      <td>SB-001</td>\n",
              "      <td>2017-11-06</td>\n",
              "      <td>66</td>\n",
              "      <td>1</td>\n",
              "      <td>31.766</td>\n",
              "      <td>0.0</td>\n",
              "      <td>0.5</td>\n",
              "      <td>0.5</td>\n",
              "      <td>255.0</td>\n",
              "      <td>0.390</td>\n",
              "      <td>...</td>\n",
              "      <td>0.089</td>\n",
              "      <td>0.463</td>\n",
              "      <td>0.428</td>\n",
              "      <td>0.708</td>\n",
              "      <td>0.815</td>\n",
              "      <td>0.796</td>\n",
              "      <td>0.492</td>\n",
              "      <td>0.232</td>\n",
              "      <td>0.710</td>\n",
              "      <td>1</td>\n",
              "    </tr>\n",
              "  </tbody>\n",
              "</table>\n",
              "<p>5 rows × 34 columns</p>\n",
              "</div>\n",
              "    <div class=\"colab-df-buttons\">\n",
              "\n",
              "  <div class=\"colab-df-container\">\n",
              "    <button class=\"colab-df-convert\" onclick=\"convertToInteractive('df-22b9b314-18d8-4e28-9a55-9b8a62727b70')\"\n",
              "            title=\"Convert this dataframe to an interactive table.\"\n",
              "            style=\"display:none;\">\n",
              "\n",
              "  <svg xmlns=\"http://www.w3.org/2000/svg\" height=\"24px\" viewBox=\"0 -960 960 960\">\n",
              "    <path d=\"M120-120v-720h720v720H120Zm60-500h600v-160H180v160Zm220 220h160v-160H400v160Zm0 220h160v-160H400v160ZM180-400h160v-160H180v160Zm440 0h160v-160H620v160ZM180-180h160v-160H180v160Zm440 0h160v-160H620v160Z\"/>\n",
              "  </svg>\n",
              "    </button>\n",
              "\n",
              "  <style>\n",
              "    .colab-df-container {\n",
              "      display:flex;\n",
              "      gap: 12px;\n",
              "    }\n",
              "\n",
              "    .colab-df-convert {\n",
              "      background-color: #E8F0FE;\n",
              "      border: none;\n",
              "      border-radius: 50%;\n",
              "      cursor: pointer;\n",
              "      display: none;\n",
              "      fill: #1967D2;\n",
              "      height: 32px;\n",
              "      padding: 0 0 0 0;\n",
              "      width: 32px;\n",
              "    }\n",
              "\n",
              "    .colab-df-convert:hover {\n",
              "      background-color: #E2EBFA;\n",
              "      box-shadow: 0px 1px 2px rgba(60, 64, 67, 0.3), 0px 1px 3px 1px rgba(60, 64, 67, 0.15);\n",
              "      fill: #174EA6;\n",
              "    }\n",
              "\n",
              "    .colab-df-buttons div {\n",
              "      margin-bottom: 4px;\n",
              "    }\n",
              "\n",
              "    [theme=dark] .colab-df-convert {\n",
              "      background-color: #3B4455;\n",
              "      fill: #D2E3FC;\n",
              "    }\n",
              "\n",
              "    [theme=dark] .colab-df-convert:hover {\n",
              "      background-color: #434B5C;\n",
              "      box-shadow: 0px 1px 3px 1px rgba(0, 0, 0, 0.15);\n",
              "      filter: drop-shadow(0px 1px 2px rgba(0, 0, 0, 0.3));\n",
              "      fill: #FFFFFF;\n",
              "    }\n",
              "  </style>\n",
              "\n",
              "    <script>\n",
              "      const buttonEl =\n",
              "        document.querySelector('#df-22b9b314-18d8-4e28-9a55-9b8a62727b70 button.colab-df-convert');\n",
              "      buttonEl.style.display =\n",
              "        google.colab.kernel.accessAllowed ? 'block' : 'none';\n",
              "\n",
              "      async function convertToInteractive(key) {\n",
              "        const element = document.querySelector('#df-22b9b314-18d8-4e28-9a55-9b8a62727b70');\n",
              "        const dataTable =\n",
              "          await google.colab.kernel.invokeFunction('convertToInteractive',\n",
              "                                                    [key], {});\n",
              "        if (!dataTable) return;\n",
              "\n",
              "        const docLinkHtml = 'Like what you see? Visit the ' +\n",
              "          '<a target=\"_blank\" href=https://colab.research.google.com/notebooks/data_table.ipynb>data table notebook</a>'\n",
              "          + ' to learn more about interactive tables.';\n",
              "        element.innerHTML = '';\n",
              "        dataTable['output_type'] = 'display_data';\n",
              "        await google.colab.output.renderOutput(dataTable, element);\n",
              "        const docLink = document.createElement('div');\n",
              "        docLink.innerHTML = docLinkHtml;\n",
              "        element.appendChild(docLink);\n",
              "      }\n",
              "    </script>\n",
              "  </div>\n",
              "\n",
              "\n",
              "<div id=\"df-ec847f39-05d3-4345-8457-3c39ed16ed92\">\n",
              "  <button class=\"colab-df-quickchart\" onclick=\"quickchart('df-ec847f39-05d3-4345-8457-3c39ed16ed92')\"\n",
              "            title=\"Suggest charts\"\n",
              "            style=\"display:none;\">\n",
              "\n",
              "<svg xmlns=\"http://www.w3.org/2000/svg\" height=\"24px\"viewBox=\"0 0 24 24\"\n",
              "     width=\"24px\">\n",
              "    <g>\n",
              "        <path d=\"M19 3H5c-1.1 0-2 .9-2 2v14c0 1.1.9 2 2 2h14c1.1 0 2-.9 2-2V5c0-1.1-.9-2-2-2zM9 17H7v-7h2v7zm4 0h-2V7h2v10zm4 0h-2v-4h2v4z\"/>\n",
              "    </g>\n",
              "</svg>\n",
              "  </button>\n",
              "\n",
              "<style>\n",
              "  .colab-df-quickchart {\n",
              "      --bg-color: #E8F0FE;\n",
              "      --fill-color: #1967D2;\n",
              "      --hover-bg-color: #E2EBFA;\n",
              "      --hover-fill-color: #174EA6;\n",
              "      --disabled-fill-color: #AAA;\n",
              "      --disabled-bg-color: #DDD;\n",
              "  }\n",
              "\n",
              "  [theme=dark] .colab-df-quickchart {\n",
              "      --bg-color: #3B4455;\n",
              "      --fill-color: #D2E3FC;\n",
              "      --hover-bg-color: #434B5C;\n",
              "      --hover-fill-color: #FFFFFF;\n",
              "      --disabled-bg-color: #3B4455;\n",
              "      --disabled-fill-color: #666;\n",
              "  }\n",
              "\n",
              "  .colab-df-quickchart {\n",
              "    background-color: var(--bg-color);\n",
              "    border: none;\n",
              "    border-radius: 50%;\n",
              "    cursor: pointer;\n",
              "    display: none;\n",
              "    fill: var(--fill-color);\n",
              "    height: 32px;\n",
              "    padding: 0;\n",
              "    width: 32px;\n",
              "  }\n",
              "\n",
              "  .colab-df-quickchart:hover {\n",
              "    background-color: var(--hover-bg-color);\n",
              "    box-shadow: 0 1px 2px rgba(60, 64, 67, 0.3), 0 1px 3px 1px rgba(60, 64, 67, 0.15);\n",
              "    fill: var(--button-hover-fill-color);\n",
              "  }\n",
              "\n",
              "  .colab-df-quickchart-complete:disabled,\n",
              "  .colab-df-quickchart-complete:disabled:hover {\n",
              "    background-color: var(--disabled-bg-color);\n",
              "    fill: var(--disabled-fill-color);\n",
              "    box-shadow: none;\n",
              "  }\n",
              "\n",
              "  .colab-df-spinner {\n",
              "    border: 2px solid var(--fill-color);\n",
              "    border-color: transparent;\n",
              "    border-bottom-color: var(--fill-color);\n",
              "    animation:\n",
              "      spin 1s steps(1) infinite;\n",
              "  }\n",
              "\n",
              "  @keyframes spin {\n",
              "    0% {\n",
              "      border-color: transparent;\n",
              "      border-bottom-color: var(--fill-color);\n",
              "      border-left-color: var(--fill-color);\n",
              "    }\n",
              "    20% {\n",
              "      border-color: transparent;\n",
              "      border-left-color: var(--fill-color);\n",
              "      border-top-color: var(--fill-color);\n",
              "    }\n",
              "    30% {\n",
              "      border-color: transparent;\n",
              "      border-left-color: var(--fill-color);\n",
              "      border-top-color: var(--fill-color);\n",
              "      border-right-color: var(--fill-color);\n",
              "    }\n",
              "    40% {\n",
              "      border-color: transparent;\n",
              "      border-right-color: var(--fill-color);\n",
              "      border-top-color: var(--fill-color);\n",
              "    }\n",
              "    60% {\n",
              "      border-color: transparent;\n",
              "      border-right-color: var(--fill-color);\n",
              "    }\n",
              "    80% {\n",
              "      border-color: transparent;\n",
              "      border-right-color: var(--fill-color);\n",
              "      border-bottom-color: var(--fill-color);\n",
              "    }\n",
              "    90% {\n",
              "      border-color: transparent;\n",
              "      border-bottom-color: var(--fill-color);\n",
              "    }\n",
              "  }\n",
              "</style>\n",
              "\n",
              "  <script>\n",
              "    async function quickchart(key) {\n",
              "      const quickchartButtonEl =\n",
              "        document.querySelector('#' + key + ' button');\n",
              "      quickchartButtonEl.disabled = true;  // To prevent multiple clicks.\n",
              "      quickchartButtonEl.classList.add('colab-df-spinner');\n",
              "      try {\n",
              "        const charts = await google.colab.kernel.invokeFunction(\n",
              "            'suggestCharts', [key], {});\n",
              "      } catch (error) {\n",
              "        console.error('Error during call to suggestCharts:', error);\n",
              "      }\n",
              "      quickchartButtonEl.classList.remove('colab-df-spinner');\n",
              "      quickchartButtonEl.classList.add('colab-df-quickchart-complete');\n",
              "    }\n",
              "    (() => {\n",
              "      let quickchartButtonEl =\n",
              "        document.querySelector('#df-ec847f39-05d3-4345-8457-3c39ed16ed92 button');\n",
              "      quickchartButtonEl.style.display =\n",
              "        google.colab.kernel.accessAllowed ? 'block' : 'none';\n",
              "    })();\n",
              "  </script>\n",
              "</div>\n",
              "\n",
              "    </div>\n",
              "  </div>\n"
            ],
            "application/vnd.google.colaboratory.intrinsic+json": {
              "type": "dataframe",
              "variable_name": "df"
            }
          },
          "metadata": {},
          "execution_count": 25
        }
      ]
    },
    {
      "cell_type": "code",
      "source": [
        "ids   = df['id'].values\n",
        "y_old = df['class'].values\n",
        "X_old = df.drop(['id','date','class'], axis=1).values"
      ],
      "metadata": {
        "id": "gjd7tcxje7J_"
      },
      "execution_count": 5,
      "outputs": []
    },
    {
      "cell_type": "code",
      "source": [
        "print(\"Imbalance Count:\")\n",
        "print(df['class'].value_counts())"
      ],
      "metadata": {
        "colab": {
          "base_uri": "https://localhost:8080/"
        },
        "id": "KuMHinhXh8Gn",
        "outputId": "fa8bc035-56a9-4a35-e206-b75a56e28eea"
      },
      "execution_count": 8,
      "outputs": [
        {
          "output_type": "stream",
          "name": "stdout",
          "text": [
            "Imbalance Count:\n",
            "class\n",
            "1    2925\n",
            "0    1137\n",
            "Name: count, dtype: int64\n"
          ]
        }
      ]
    },
    {
      "cell_type": "code",
      "source": [
        "import pandas as pd\n",
        "import numpy as np\n",
        "\n",
        "from sklearn.model_selection import train_test_split\n",
        "from sklearn.preprocessing import StandardScaler\n",
        "from sklearn.pipeline import make_pipeline\n",
        "from sklearn.linear_model import LogisticRegression\n",
        "from sklearn.metrics import confusion_matrix, pairwise_distances\n",
        "from sklearn.neighbors import NearestNeighbors\n",
        "import matplotlib.pyplot as plt"
      ],
      "metadata": {
        "id": "1rWvTBC8jjh6"
      },
      "execution_count": 72,
      "outputs": []
    },
    {
      "cell_type": "code",
      "source": [
        "def hassanat_dist(p, q):\n",
        "    pi, qi = p, q\n",
        "    d = np.zeros_like(pi, dtype=float)\n",
        "    # non-negative features\n",
        "    mask = np.minimum(pi, qi) >= 0\n",
        "    mn, mx = np.minimum(pi[mask], qi[mask]), np.maximum(pi[mask], qi[mask])\n",
        "    d[mask] = 1 - (1 + mn) / (1 + mx)\n",
        "    # negative features\n",
        "    mask2 = ~mask\n",
        "    mn2, mx2 = np.minimum(pi[mask2], qi[mask2]), np.maximum(pi[mask2], qi[mask2])\n",
        "    d[mask2] = 1 - (1 + mn2 + np.abs(mn2)) / (1 + mx2 + np.abs(mn2))\n",
        "    return d.sum()"
      ],
      "metadata": {
        "id": "68W4XRtdmYCu"
      },
      "execution_count": 57,
      "outputs": []
    },
    {
      "cell_type": "code",
      "source": [
        "id_col = 'patient_id'   # ← replace with your actual ID‐column name\n",
        "class_col = 'class'"
      ],
      "metadata": {
        "id": "o3qy_4OxmYIM"
      },
      "execution_count": 58,
      "outputs": []
    },
    {
      "source": [
        "# 4) Select only numeric features for distance computations\n",
        "feature_cols = df.select_dtypes(include=[np.number]).columns.tolist()\n",
        "\n",
        "# 5) Split 60% train / 40% test, stratified by class\n",
        "df_train, df_test = train_test_split(\n",
        "    df, train_size=0.6, stratify=df[class_col], random_state=42\n",
        ")\n"
      ],
      "cell_type": "code",
      "metadata": {
        "id": "vYcPdHvXq3KM"
      },
      "execution_count": 59,
      "outputs": []
    },
    {
      "cell_type": "code",
      "source": [
        "# 6) Extract numeric matrices and labels\n",
        "X_train = df_train[feature_cols].values\n",
        "y_train = df_train[class_col].values\n",
        "X_test  = df_test[feature_cols].values\n",
        "y_test  = df_test[class_col].values\n"
      ],
      "metadata": {
        "id": "YvsIkMn-pfYE"
      },
      "execution_count": 60,
      "outputs": []
    },
    {
      "cell_type": "code",
      "source": [
        "# 7) Determine minority vs majority labels\n",
        "counts     = df[class_col].value_counts()\n",
        "maj_label  = counts.idxmax()\n",
        "min_label  = counts.idxmin()"
      ],
      "metadata": {
        "id": "w1cIxI9lr3-j"
      },
      "execution_count": 61,
      "outputs": []
    },
    {
      "cell_type": "code",
      "source": [
        "id_col = 'id'\n",
        "# 8) Pull out minority samples and their IDs from the training set\n",
        "mask_min = df_train[class_col] == min_label\n",
        "X_min    = df_train.loc[mask_min, feature_cols].values\n",
        "ids_min  = df_train.loc[mask_min, id_col].values # This line should now work without error"
      ],
      "metadata": {
        "id": "3qwbOa-PxaQq"
      },
      "execution_count": 70,
      "outputs": []
    },
    {
      "cell_type": "code",
      "source": [
        "# 9) Compute k‐NN indices among minority samples (for SMOTE)\n",
        "k    = min(5, len(X_min))\n",
        "nbrs = NearestNeighbors(n_neighbors=k).fit(X_min)\n",
        "knn_inds = nbrs.kneighbors(X_min, return_distance=False)\n"
      ],
      "metadata": {
        "id": "UveTzsCuxaUy"
      },
      "execution_count": 66,
      "outputs": []
    },
    {
      "cell_type": "code",
      "source": [
        "# 10) Generate k synthetic samples per minority patient and validate\n",
        "records = []\n",
        "rng     = np.random.RandomState(42)\n",
        "\n",
        "for i, pid in enumerate(ids_min):\n",
        "    for _ in range(k):\n",
        "        neighs = knn_inds[i]\n",
        "        # choose a neighbor != itself if possible\n",
        "        j = rng.choice(neighs[neighs != i]) if len(neighs) > 1 else i\n",
        "        δ = rng.rand()\n",
        "        synth = X_min[i] + δ * (X_min[j] - X_min[i])\n",
        "        # compute Hassanat distance to every test sample\n",
        "        dists = np.array([hassanat_dist(synth, t) for t in X_test])\n",
        "        nn    = np.argmin(dists)\n",
        "        # error = 1 if nearest test neighbor is majority\n",
        "        records.append({'patient_id': pid, 'error': int(y_test[nn] == maj_label)})\n",
        "\n"
      ],
      "metadata": {
        "id": "VXzSMfiJxaXZ"
      },
      "execution_count": 67,
      "outputs": []
    },
    {
      "cell_type": "code",
      "source": [
        "# 11) Aggregate per‐patient error rates\n",
        "err_df = pd.DataFrame(records)\n",
        "per_patient = err_df.groupby('patient_id')['error'].mean().reset_index()\n",
        "per_patient.columns = ['patient_id', 'smote_error_rate']"
      ],
      "metadata": {
        "id": "EFZGkowyxaZ_"
      },
      "execution_count": 68,
      "outputs": []
    },
    {
      "cell_type": "code",
      "source": [
        "# 12) Output results\n",
        "print(per_patient)\n",
        "per_patient.to_excel('per_patient_smote_error.xlsx', index=False)"
      ],
      "metadata": {
        "colab": {
          "base_uri": "https://localhost:8080/"
        },
        "id": "UireRJ1Ryaz1",
        "outputId": "477115a2-e3d0-4f6c-e8c5-40d55ceba616"
      },
      "execution_count": 69,
      "outputs": [
        {
          "output_type": "stream",
          "name": "stdout",
          "text": [
            "   patient_id  smote_error_rate\n",
            "0      SB-001          0.056250\n",
            "1      SB-003          0.378378\n",
            "2      SB-008          0.191667\n",
            "3      SB-011          0.019355\n",
            "4      SB-012          0.094737\n",
            "5      SB-022          0.130000\n",
            "6      SB-023          0.333333\n",
            "7      SB-025          0.133333\n",
            "8      SB-028          0.095238\n",
            "9      SB-033          0.388889\n",
            "10     SB-037          0.083333\n",
            "11     SB-043          0.321053\n",
            "12     SB-056          0.255172\n",
            "13     SB-059          0.095652\n",
            "14     SB-060          0.128571\n",
            "15     SB-070          0.121053\n",
            "16     SB-071          0.428571\n",
            "17     SB-073          0.125000\n",
            "18     SB-078          0.223077\n",
            "19     SB-079          0.072727\n",
            "20     SB-080          0.260606\n",
            "21     SB-081          0.066667\n",
            "22     SB-082          0.104000\n",
            "23     SB-083          0.041176\n",
            "24     SB-089          0.236364\n",
            "25     SB-112          0.047059\n"
          ]
        }
      ]
    },
    {
      "cell_type": "code",
      "source": [
        "import pandas as pd\n",
        "import matplotlib.pyplot as plt\n",
        "\n",
        "# 1) Read in the per-patient error file you generated\n",
        "df = pd.read_excel('per_patient_smote_error.xlsx')\n",
        "\n",
        "# 2) Define thresholds\n",
        "risk_thresh = 0.30\n",
        "safe_thresh = 0.10\n",
        "\n",
        "# 3) Identify risky vs. safe\n",
        "risky = df[df.smote_error_rate > risk_thresh]\n",
        "safe  = df[df.smote_error_rate < safe_thresh]\n",
        "\n",
        "print(\"Risky patients (error_rate > 0.30):\")\n",
        "print(risky.to_string(index=False))\n",
        "\n",
        "print(\"\\nSafe patients (error_rate < 0.10):\")\n",
        "print(safe.to_string(index=False))\n",
        "\n",
        "# 4) Group analysis: overall average and histogram\n",
        "print(f\"\\nOverall average error rate: {df.smote_error_rate.mean():.3f}\")\n",
        "\n",
        "plt.figure()\n",
        "df.smote_error_rate.hist(bins=10)\n",
        "plt.title('Per‑Patient SMOTE Error‑Rate Distribution')\n",
        "plt.xlabel('SMOTE Error Rate')\n",
        "plt.ylabel('Number of Patients')\n",
        "plt.show()\n"
      ],
      "metadata": {
        "colab": {
          "base_uri": "https://localhost:8080/",
          "height": 865
        },
        "id": "e-Re5-qEya3v",
        "outputId": "43f9473e-a018-4ea8-8be0-6ba92b9a9367"
      },
      "execution_count": 74,
      "outputs": [
        {
          "output_type": "stream",
          "name": "stdout",
          "text": [
            "Risky patients (error_rate > 0.30):\n",
            "patient_id  smote_error_rate\n",
            "    SB-003          0.378378\n",
            "    SB-023          0.333333\n",
            "    SB-033          0.388889\n",
            "    SB-043          0.321053\n",
            "    SB-071          0.428571\n",
            "\n",
            "Safe patients (error_rate < 0.10):\n",
            "patient_id  smote_error_rate\n",
            "    SB-001          0.056250\n",
            "    SB-011          0.019355\n",
            "    SB-012          0.094737\n",
            "    SB-028          0.095238\n",
            "    SB-037          0.083333\n",
            "    SB-059          0.095652\n",
            "    SB-079          0.072727\n",
            "    SB-081          0.066667\n",
            "    SB-083          0.041176\n",
            "    SB-112          0.047059\n",
            "\n",
            "Overall average error rate: 0.170\n"
          ]
        },
        {
          "output_type": "display_data",
          "data": {
            "text/plain": [
              "<Figure size 640x480 with 1 Axes>"
            ],
            "image/png": "[encoded data removed]"
          },
          "metadata": {}
        }
      ]
    }
  ]
}