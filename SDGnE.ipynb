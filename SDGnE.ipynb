{
  "nbformat": 4,
  "nbformat_minor": 0,
  "metadata": {
    "colab": {
      "provenance": [],
      "authorship_tag": "ABX9TyOgK8iEb1ZWepo4kcM5Vzh1",
      "include_colab_link": true
    },
    "kernelspec": {
      "name": "python3",
      "display_name": "Python 3"
    },
    "language_info": {
      "name": "python"
    }
  },
  "cells": [
    {
      "cell_type": "markdown",
      "metadata": {
        "id": "view-in-github",
        "colab_type": "text"
      },
      "source": [
        "<a href=\"https://colab.research.google.com/github/dharanipriyaR24/SDGnE/blob/main/SDGnE.ipynb\" target=\"_parent\"><img src=\"https://colab.research.google.com/assets/colab-badge.svg\" alt=\"Open In Colab\"/></a>"
      ]
    },
    {
      "cell_type": "code",
      "execution_count": null,
      "metadata": {
        "colab": {
          "base_uri": "https://localhost:8080/"
        },
        "id": "m1eoZVkqjinj",
        "outputId": "396bb354-f87e-4c44-eb94-0b2fcfd2a4c5"
      },
      "outputs": [
        {
          "output_type": "stream",
          "name": "stdout",
          "text": [
            "Requirement already satisfied: sdgne in /usr/local/lib/python3.11/dist-packages (4.0.0)\n"
          ]
        }
      ],
      "source": [
        "pip install sdgne"
      ]
    },
    {
      "cell_type": "code",
      "source": [
        "!pip install gretel-client"
      ],
      "metadata": {
        "colab": {
          "base_uri": "https://localhost:8080/"
        },
        "id": "s_ON0-WglEj7",
        "outputId": "8b53f905-b318-4465-bb65-fdb07c8a9b6a"
      },
      "execution_count": null,
      "outputs": [
        {
          "output_type": "stream",
          "name": "stdout",
          "text": [
            "Requirement already satisfied: gretel-client in /usr/local/lib/python3.11/dist-packages (0.26.0)\n",
            "Requirement already satisfied: certifi>=2021.10.8 in /usr/local/lib/python3.11/dist-packages (from gretel-client) (2025.1.31)\n",
            "Requirement already satisfied: click<9,>=8.1.3 in /usr/local/lib/python3.11/dist-packages (from gretel-client) (8.1.8)\n",
            "Requirement already satisfied: inflection==0.5.1 in /usr/local/lib/python3.11/dist-packages (from gretel-client) (0.5.1)\n",
            "Requirement already satisfied: jinja2==3.1.6 in /usr/local/lib/python3.11/dist-packages (from gretel-client) (3.1.6)\n",
            "Requirement already satisfied: numpy>=1.23.5 in /usr/local/lib/python3.11/dist-packages (from gretel-client) (2.2.4)\n",
            "Requirement already satisfied: pandas>=1.1.0 in /usr/local/lib/python3.11/dist-packages (from gretel-client) (2.2.3)\n",
            "Requirement already satisfied: pycryptodome<4,>=3.19 in /usr/local/lib/python3.11/dist-packages (from gretel-client) (3.22.0)\n",
            "Requirement already satisfied: pydantic>=2 in /usr/local/lib/python3.11/dist-packages (from gretel-client) (2.11.1)\n",
            "Requirement already satisfied: python-dateutil>=2.8.0 in /usr/local/lib/python3.11/dist-packages (from gretel-client) (2.9.0.post0)\n",
            "Requirement already satisfied: pyyaml>=6.0.1 in /usr/local/lib/python3.11/dist-packages (from gretel-client) (6.0.2)\n",
            "Requirement already satisfied: requests<3,>=2.25 in /usr/local/lib/python3.11/dist-packages (from gretel-client) (2.32.3)\n",
            "Requirement already satisfied: rich>=13.7 in /usr/local/lib/python3.11/dist-packages (from gretel-client) (13.9.4)\n",
            "Requirement already satisfied: smart-open<8.0,>=2.1.0 in /usr/local/lib/python3.11/dist-packages (from gretel-client) (7.1.0)\n",
            "Requirement already satisfied: tabulate>=0.8.9 in /usr/local/lib/python3.11/dist-packages (from gretel-client) (0.9.0)\n",
            "Requirement already satisfied: tenacity>=8.2.2 in /usr/local/lib/python3.11/dist-packages (from gretel-client) (9.0.0)\n",
            "Requirement already satisfied: tqdm<5.0,>=4.66 in /usr/local/lib/python3.11/dist-packages (from gretel-client) (4.67.1)\n",
            "Requirement already satisfied: urllib3>=1.26.5 in /usr/local/lib/python3.11/dist-packages (from gretel-client) (2.3.0)\n",
            "Requirement already satisfied: MarkupSafe>=2.0 in /usr/local/lib/python3.11/dist-packages (from jinja2==3.1.6->gretel-client) (3.0.2)\n",
            "Requirement already satisfied: pytz>=2020.1 in /usr/local/lib/python3.11/dist-packages (from pandas>=1.1.0->gretel-client) (2025.2)\n",
            "Requirement already satisfied: tzdata>=2022.7 in /usr/local/lib/python3.11/dist-packages (from pandas>=1.1.0->gretel-client) (2025.2)\n",
            "Requirement already satisfied: annotated-types>=0.6.0 in /usr/local/lib/python3.11/dist-packages (from pydantic>=2->gretel-client) (0.7.0)\n",
            "Requirement already satisfied: pydantic-core==2.33.0 in /usr/local/lib/python3.11/dist-packages (from pydantic>=2->gretel-client) (2.33.0)\n",
            "Requirement already satisfied: typing-extensions>=4.12.2 in /usr/local/lib/python3.11/dist-packages (from pydantic>=2->gretel-client) (4.13.0)\n",
            "Requirement already satisfied: typing-inspection>=0.4.0 in /usr/local/lib/python3.11/dist-packages (from pydantic>=2->gretel-client) (0.4.0)\n",
            "Requirement already satisfied: six>=1.5 in /usr/local/lib/python3.11/dist-packages (from python-dateutil>=2.8.0->gretel-client) (1.17.0)\n",
            "Requirement already satisfied: charset-normalizer<4,>=2 in /usr/local/lib/python3.11/dist-packages (from requests<3,>=2.25->gretel-client) (3.4.1)\n",
            "Requirement already satisfied: idna<4,>=2.5 in /usr/local/lib/python3.11/dist-packages (from requests<3,>=2.25->gretel-client) (3.10)\n",
            "Requirement already satisfied: markdown-it-py>=2.2.0 in /usr/local/lib/python3.11/dist-packages (from rich>=13.7->gretel-client) (3.0.0)\n",
            "Requirement already satisfied: pygments<3.0.0,>=2.13.0 in /usr/local/lib/python3.11/dist-packages (from rich>=13.7->gretel-client) (2.18.0)\n",
            "Requirement already satisfied: wrapt in /usr/local/lib/python3.11/dist-packages (from smart-open<8.0,>=2.1.0->gretel-client) (1.17.2)\n",
            "Requirement already satisfied: mdurl~=0.1 in /usr/local/lib/python3.11/dist-packages (from markdown-it-py>=2.2.0->rich>=13.7->gretel-client) (0.1.2)\n"
          ]
        }
      ]
    },
    {
      "cell_type": "code",
      "source": [
        "pip install pandas scikit-learn imbalanced-learn"
      ],
      "metadata": {
        "colab": {
          "base_uri": "https://localhost:8080/"
        },
        "id": "wq5UT9jUlEnB",
        "outputId": "53f65a96-eb3a-4e1c-8561-3f858517bad4"
      },
      "execution_count": null,
      "outputs": [
        {
          "output_type": "stream",
          "name": "stdout",
          "text": [
            "Requirement already satisfied: pandas in /usr/local/lib/python3.11/dist-packages (2.2.3)\n",
            "Requirement already satisfied: scikit-learn in /usr/local/lib/python3.11/dist-packages (1.6.1)\n",
            "Requirement already satisfied: imbalanced-learn in /usr/local/lib/python3.11/dist-packages (0.13.0)\n",
            "Requirement already satisfied: numpy>=1.23.2 in /usr/local/lib/python3.11/dist-packages (from pandas) (2.2.4)\n",
            "Requirement already satisfied: python-dateutil>=2.8.2 in /usr/local/lib/python3.11/dist-packages (from pandas) (2.9.0.post0)\n",
            "Requirement already satisfied: pytz>=2020.1 in /usr/local/lib/python3.11/dist-packages (from pandas) (2025.2)\n",
            "Requirement already satisfied: tzdata>=2022.7 in /usr/local/lib/python3.11/dist-packages (from pandas) (2025.2)\n",
            "Requirement already satisfied: scipy>=1.6.0 in /usr/local/lib/python3.11/dist-packages (from scikit-learn) (1.14.1)\n",
            "Requirement already satisfied: joblib>=1.2.0 in /usr/local/lib/python3.11/dist-packages (from scikit-learn) (1.4.2)\n",
            "Requirement already satisfied: threadpoolctl>=3.1.0 in /usr/local/lib/python3.11/dist-packages (from scikit-learn) (3.6.0)\n",
            "Requirement already satisfied: sklearn-compat<1,>=0.1 in /usr/local/lib/python3.11/dist-packages (from imbalanced-learn) (0.1.3)\n",
            "Requirement already satisfied: six>=1.5 in /usr/local/lib/python3.11/dist-packages (from python-dateutil>=2.8.2->pandas) (1.17.0)\n"
          ]
        }
      ]
    },
    {
      "cell_type": "code",
      "source": [
        "!pip install --upgrade --force-reinstall numpy\n",
        "!pip install --upgrade --force-reinstall pandas"
      ],
      "metadata": {
        "colab": {
          "base_uri": "https://localhost:8080/",
          "height": 1000
        },
        "id": "1qE1JwlBqTwF",
        "outputId": "a3f9e39c-bade-4523-8952-73ee3594f674"
      },
      "execution_count": null,
      "outputs": [
        {
          "output_type": "stream",
          "name": "stdout",
          "text": [
            "Collecting numpy\n",
            "  Using cached numpy-2.2.4-cp311-cp311-manylinux_2_17_x86_64.manylinux2014_x86_64.whl.metadata (62 kB)\n",
            "Using cached numpy-2.2.4-cp311-cp311-manylinux_2_17_x86_64.manylinux2014_x86_64.whl (16.4 MB)\n",
            "Installing collected packages: numpy\n",
            "  Attempting uninstall: numpy\n",
            "    Found existing installation: numpy 2.2.4\n",
            "    Uninstalling numpy-2.2.4:\n",
            "      Successfully uninstalled numpy-2.2.4\n",
            "\u001b[31mERROR: pip's dependency resolver does not currently take into account all the packages that are installed. This behaviour is the source of the following dependency conflicts.\n",
            "google-colab 1.0.0 requires pandas==2.2.2, but you have pandas 2.2.3 which is incompatible.\n",
            "tensorflow 2.18.0 requires numpy<2.1.0,>=1.26.0, but you have numpy 2.2.4 which is incompatible.\n",
            "numba 0.60.0 requires numpy<2.1,>=1.22, but you have numpy 2.2.4 which is incompatible.\u001b[0m\u001b[31m\n",
            "\u001b[0mSuccessfully installed numpy-2.2.4\n",
            "Collecting pandas\n",
            "  Using cached pandas-2.2.3-cp311-cp311-manylinux_2_17_x86_64.manylinux2014_x86_64.whl.metadata (89 kB)\n",
            "Collecting numpy>=1.23.2 (from pandas)\n",
            "  Using cached numpy-2.2.4-cp311-cp311-manylinux_2_17_x86_64.manylinux2014_x86_64.whl.metadata (62 kB)\n",
            "Collecting python-dateutil>=2.8.2 (from pandas)\n",
            "  Using cached python_dateutil-2.9.0.post0-py2.py3-none-any.whl.metadata (8.4 kB)\n",
            "Collecting pytz>=2020.1 (from pandas)\n",
            "  Using cached pytz-2025.2-py2.py3-none-any.whl.metadata (22 kB)\n",
            "Collecting tzdata>=2022.7 (from pandas)\n",
            "  Using cached tzdata-2025.2-py2.py3-none-any.whl.metadata (1.4 kB)\n",
            "Collecting six>=1.5 (from python-dateutil>=2.8.2->pandas)\n",
            "  Using cached six-1.17.0-py2.py3-none-any.whl.metadata (1.7 kB)\n",
            "Using cached pandas-2.2.3-cp311-cp311-manylinux_2_17_x86_64.manylinux2014_x86_64.whl (13.1 MB)\n",
            "Using cached numpy-2.2.4-cp311-cp311-manylinux_2_17_x86_64.manylinux2014_x86_64.whl (16.4 MB)\n",
            "Using cached python_dateutil-2.9.0.post0-py2.py3-none-any.whl (229 kB)\n",
            "Using cached pytz-2025.2-py2.py3-none-any.whl (509 kB)\n",
            "Using cached tzdata-2025.2-py2.py3-none-any.whl (347 kB)\n",
            "Using cached six-1.17.0-py2.py3-none-any.whl (11 kB)\n",
            "Installing collected packages: pytz, tzdata, six, numpy, python-dateutil, pandas\n",
            "  Attempting uninstall: pytz\n",
            "    Found existing installation: pytz 2025.2\n",
            "    Uninstalling pytz-2025.2:\n",
            "      Successfully uninstalled pytz-2025.2\n",
            "  Attempting uninstall: tzdata\n",
            "    Found existing installation: tzdata 2025.2\n",
            "    Uninstalling tzdata-2025.2:\n",
            "      Successfully uninstalled tzdata-2025.2\n",
            "  Attempting uninstall: six\n",
            "    Found existing installation: six 1.17.0\n",
            "    Uninstalling six-1.17.0:\n",
            "      Successfully uninstalled six-1.17.0\n",
            "  Attempting uninstall: numpy\n",
            "    Found existing installation: numpy 2.2.4\n",
            "    Uninstalling numpy-2.2.4:\n",
            "      Successfully uninstalled numpy-2.2.4\n",
            "  Attempting uninstall: python-dateutil\n",
            "    Found existing installation: python-dateutil 2.9.0.post0\n",
            "    Uninstalling python-dateutil-2.9.0.post0:\n",
            "      Successfully uninstalled python-dateutil-2.9.0.post0\n",
            "  Attempting uninstall: pandas\n",
            "    Found existing installation: pandas 2.2.3\n",
            "    Uninstalling pandas-2.2.3:\n",
            "      Successfully uninstalled pandas-2.2.3\n",
            "\u001b[31mERROR: pip's dependency resolver does not currently take into account all the packages that are installed. This behaviour is the source of the following dependency conflicts.\n",
            "google-colab 1.0.0 requires pandas==2.2.2, but you have pandas 2.2.3 which is incompatible.\n",
            "tensorflow 2.18.0 requires numpy<2.1.0,>=1.26.0, but you have numpy 2.2.4 which is incompatible.\n",
            "numba 0.60.0 requires numpy<2.1,>=1.22, but you have numpy 2.2.4 which is incompatible.\u001b[0m\u001b[31m\n",
            "\u001b[0mSuccessfully installed numpy-2.2.4 pandas-2.2.3 python-dateutil-2.9.0.post0 pytz-2025.2 six-1.17.0 tzdata-2025.2\n"
          ]
        },
        {
          "output_type": "display_data",
          "data": {
            "application/vnd.colab-display-data+json": {
              "pip_warning": {
                "packages": [
                  "dateutil",
                  "pytz",
                  "six"
                ]
              },
              "id": "94e9f875f47c4b7f9ee4b4f3ae49ec69"
            }
          },
          "metadata": {}
        }
      ]
    },
    {
      "cell_type": "code",
      "source": [
        "!pip install pandas"
      ],
      "metadata": {
        "colab": {
          "base_uri": "https://localhost:8080/"
        },
        "id": "8GQLloSVplNy",
        "outputId": "e54a1998-f944-4b11-e7ff-ed754b697ad5"
      },
      "execution_count": null,
      "outputs": [
        {
          "output_type": "stream",
          "name": "stdout",
          "text": [
            "Requirement already satisfied: pandas in /usr/local/lib/python3.11/dist-packages (2.2.3)\n",
            "Requirement already satisfied: numpy>=1.23.2 in /usr/local/lib/python3.11/dist-packages (from pandas) (2.2.4)\n",
            "Requirement already satisfied: python-dateutil>=2.8.2 in /usr/local/lib/python3.11/dist-packages (from pandas) (2.9.0.post0)\n",
            "Requirement already satisfied: pytz>=2020.1 in /usr/local/lib/python3.11/dist-packages (from pandas) (2025.2)\n",
            "Requirement already satisfied: tzdata>=2022.7 in /usr/local/lib/python3.11/dist-packages (from pandas) (2025.2)\n",
            "Requirement already satisfied: six>=1.5 in /usr/local/lib/python3.11/dist-packages (from python-dateutil>=2.8.2->pandas) (1.17.0)\n"
          ]
        }
      ]
    },
    {
      "cell_type": "code",
      "source": [
        "import pandas as pd\n",
        "import numpy as np\n",
        "from sklearn.model_selection import train_test_split\n",
        "from sklearn.metrics import pairwise_distances\n",
        "from imblearn.over_sampling import SMOTE"
      ],
      "metadata": {
        "id": "KPoxzUDzlEp2"
      },
      "execution_count": null,
      "outputs": []
    },
    {
      "cell_type": "code",
      "source": [
        "df = pd.read_csv('/content/SB-078_original.csv')"
      ],
      "metadata": {
        "id": "EgIZspMZlEtH"
      },
      "execution_count": null,
      "outputs": []
    },
    {
      "cell_type": "code",
      "source": [
        "df.head()"
      ],
      "metadata": {
        "colab": {
          "base_uri": "https://localhost:8080/",
          "height": 342
        },
        "id": "kp5gg4lqSuf0",
        "outputId": "fcd5e689-e4b1-4e37-9e68-dab48aaaf815"
      },
      "execution_count": null,
      "outputs": [
        {
          "output_type": "execute_result",
          "data": {
            "text/plain": [
              "       id        date   age  sex     BMI  income  road_dist  cooking  \\\n",
              "0  SB-078  2017-12-19  78.0  1.0  23.873   0.143        0.5      1.0   \n",
              "1  SB-078  2017-12-20  78.0  1.0  23.873   0.143        0.5      1.0   \n",
              "2  SB-078  2017-12-21  78.0  1.0  23.873   0.143        0.5      1.0   \n",
              "3  SB-078  2017-12-22  78.0  1.0  23.873   0.143        0.5      1.0   \n",
              "4  SB-078  2017-12-23  78.0  1.0  23.873   0.143        0.5      1.0   \n",
              "\n",
              "   am_pef_org  y_am_pef  ...  windsd  humid   varp  dewpt   airp   seap  \\\n",
              "0       350.0     1.000  ...   0.499  0.578  0.179  0.467  0.812  0.810   \n",
              "1       350.0     0.875  ...   0.349  0.320  0.069  0.268  1.000  1.000   \n",
              "2       350.0     0.875  ...   0.276  0.725  0.172  0.462  0.922  0.919   \n",
              "3       350.0     0.875  ...   0.166  0.532  0.169  0.465  0.907  0.903   \n",
              "4       350.0     0.875  ...   0.377  0.697  0.291  0.607  0.729  0.723   \n",
              "\n",
              "   solrhr  solramnt   grdt  class  \n",
              "0   0.450     0.135  0.202    1.0  \n",
              "1   0.682     0.223  0.134    1.0  \n",
              "2   0.264     0.128  0.202    1.0  \n",
              "3   0.704     0.231  0.236    1.0  \n",
              "4   0.433     0.146  0.288    1.0  \n",
              "\n",
              "[5 rows x 34 columns]"
            ],
            "text/html": [
              "\n",
              "  <div id=\"df-6c38e86a-1d87-4428-9006-471042a62c6c\" class=\"colab-df-container\">\n",
              "    <div>\n",
              "<style scoped>\n",
              "    .dataframe tbody tr th:only-of-type {\n",
              "        vertical-align: middle;\n",
              "    }\n",
              "\n",
              "    .dataframe tbody tr th {\n",
              "        vertical-align: top;\n",
              "    }\n",
              "\n",
              "    .dataframe thead th {\n",
              "        text-align: right;\n",
              "    }\n",
              "</style>\n",
              "<table border=\"1\" class=\"dataframe\">\n",
              "  <thead>\n",
              "    <tr style=\"text-align: right;\">\n",
              "      <th></th>\n",
              "      <th>id</th>\n",
              "      <th>date</th>\n",
              "      <th>age</th>\n",
              "      <th>sex</th>\n",
              "      <th>BMI</th>\n",
              "      <th>income</th>\n",
              "      <th>road_dist</th>\n",
              "      <th>cooking</th>\n",
              "      <th>am_pef_org</th>\n",
              "      <th>y_am_pef</th>\n",
              "      <th>...</th>\n",
              "      <th>windsd</th>\n",
              "      <th>humid</th>\n",
              "      <th>varp</th>\n",
              "      <th>dewpt</th>\n",
              "      <th>airp</th>\n",
              "      <th>seap</th>\n",
              "      <th>solrhr</th>\n",
              "      <th>solramnt</th>\n",
              "      <th>grdt</th>\n",
              "      <th>class</th>\n",
              "    </tr>\n",
              "  </thead>\n",
              "  <tbody>\n",
              "    <tr>\n",
              "      <th>0</th>\n",
              "      <td>SB-078</td>\n",
              "      <td>2017-12-19</td>\n",
              "      <td>78.0</td>\n",
              "      <td>1.0</td>\n",
              "      <td>23.873</td>\n",
              "      <td>0.143</td>\n",
              "      <td>0.5</td>\n",
              "      <td>1.0</td>\n",
              "      <td>350.0</td>\n",
              "      <td>1.000</td>\n",
              "      <td>...</td>\n",
              "      <td>0.499</td>\n",
              "      <td>0.578</td>\n",
              "      <td>0.179</td>\n",
              "      <td>0.467</td>\n",
              "      <td>0.812</td>\n",
              "      <td>0.810</td>\n",
              "      <td>0.450</td>\n",
              "      <td>0.135</td>\n",
              "      <td>0.202</td>\n",
              "      <td>1.0</td>\n",
              "    </tr>\n",
              "    <tr>\n",
              "      <th>1</th>\n",
              "      <td>SB-078</td>\n",
              "      <td>2017-12-20</td>\n",
              "      <td>78.0</td>\n",
              "      <td>1.0</td>\n",
              "      <td>23.873</td>\n",
              "      <td>0.143</td>\n",
              "      <td>0.5</td>\n",
              "      <td>1.0</td>\n",
              "      <td>350.0</td>\n",
              "      <td>0.875</td>\n",
              "      <td>...</td>\n",
              "      <td>0.349</td>\n",
              "      <td>0.320</td>\n",
              "      <td>0.069</td>\n",
              "      <td>0.268</td>\n",
              "      <td>1.000</td>\n",
              "      <td>1.000</td>\n",
              "      <td>0.682</td>\n",
              "      <td>0.223</td>\n",
              "      <td>0.134</td>\n",
              "      <td>1.0</td>\n",
              "    </tr>\n",
              "    <tr>\n",
              "      <th>2</th>\n",
              "      <td>SB-078</td>\n",
              "      <td>2017-12-21</td>\n",
              "      <td>78.0</td>\n",
              "      <td>1.0</td>\n",
              "      <td>23.873</td>\n",
              "      <td>0.143</td>\n",
              "      <td>0.5</td>\n",
              "      <td>1.0</td>\n",
              "      <td>350.0</td>\n",
              "      <td>0.875</td>\n",
              "      <td>...</td>\n",
              "      <td>0.276</td>\n",
              "      <td>0.725</td>\n",
              "      <td>0.172</td>\n",
              "      <td>0.462</td>\n",
              "      <td>0.922</td>\n",
              "      <td>0.919</td>\n",
              "      <td>0.264</td>\n",
              "      <td>0.128</td>\n",
              "      <td>0.202</td>\n",
              "      <td>1.0</td>\n",
              "    </tr>\n",
              "    <tr>\n",
              "      <th>3</th>\n",
              "      <td>SB-078</td>\n",
              "      <td>2017-12-22</td>\n",
              "      <td>78.0</td>\n",
              "      <td>1.0</td>\n",
              "      <td>23.873</td>\n",
              "      <td>0.143</td>\n",
              "      <td>0.5</td>\n",
              "      <td>1.0</td>\n",
              "      <td>350.0</td>\n",
              "      <td>0.875</td>\n",
              "      <td>...</td>\n",
              "      <td>0.166</td>\n",
              "      <td>0.532</td>\n",
              "      <td>0.169</td>\n",
              "      <td>0.465</td>\n",
              "      <td>0.907</td>\n",
              "      <td>0.903</td>\n",
              "      <td>0.704</td>\n",
              "      <td>0.231</td>\n",
              "      <td>0.236</td>\n",
              "      <td>1.0</td>\n",
              "    </tr>\n",
              "    <tr>\n",
              "      <th>4</th>\n",
              "      <td>SB-078</td>\n",
              "      <td>2017-12-23</td>\n",
              "      <td>78.0</td>\n",
              "      <td>1.0</td>\n",
              "      <td>23.873</td>\n",
              "      <td>0.143</td>\n",
              "      <td>0.5</td>\n",
              "      <td>1.0</td>\n",
              "      <td>350.0</td>\n",
              "      <td>0.875</td>\n",
              "      <td>...</td>\n",
              "      <td>0.377</td>\n",
              "      <td>0.697</td>\n",
              "      <td>0.291</td>\n",
              "      <td>0.607</td>\n",
              "      <td>0.729</td>\n",
              "      <td>0.723</td>\n",
              "      <td>0.433</td>\n",
              "      <td>0.146</td>\n",
              "      <td>0.288</td>\n",
              "      <td>1.0</td>\n",
              "    </tr>\n",
              "  </tbody>\n",
              "</table>\n",
              "<p>5 rows × 34 columns</p>\n",
              "</div>\n",
              "    <div class=\"colab-df-buttons\">\n",
              "\n",
              "  <div class=\"colab-df-container\">\n",
              "    <button class=\"colab-df-convert\" onclick=\"convertToInteractive('df-6c38e86a-1d87-4428-9006-471042a62c6c')\"\n",
              "            title=\"Convert this dataframe to an interactive table.\"\n",
              "            style=\"display:none;\">\n",
              "\n",
              "  <svg xmlns=\"http://www.w3.org/2000/svg\" height=\"24px\" viewBox=\"0 -960 960 960\">\n",
              "    <path d=\"M120-120v-720h720v720H120Zm60-500h600v-160H180v160Zm220 220h160v-160H400v160Zm0 220h160v-160H400v160ZM180-400h160v-160H180v160Zm440 0h160v-160H620v160ZM180-180h160v-160H180v160Zm440 0h160v-160H620v160Z\"/>\n",
              "  </svg>\n",
              "    </button>\n",
              "\n",
              "  <style>\n",
              "    .colab-df-container {\n",
              "      display:flex;\n",
              "      gap: 12px;\n",
              "    }\n",
              "\n",
              "    .colab-df-convert {\n",
              "      background-color: #E8F0FE;\n",
              "      border: none;\n",
              "      border-radius: 50%;\n",
              "      cursor: pointer;\n",
              "      display: none;\n",
              "      fill: #1967D2;\n",
              "      height: 32px;\n",
              "      padding: 0 0 0 0;\n",
              "      width: 32px;\n",
              "    }\n",
              "\n",
              "    .colab-df-convert:hover {\n",
              "      background-color: #E2EBFA;\n",
              "      box-shadow: 0px 1px 2px rgba(60, 64, 67, 0.3), 0px 1px 3px 1px rgba(60, 64, 67, 0.15);\n",
              "      fill: #174EA6;\n",
              "    }\n",
              "\n",
              "    .colab-df-buttons div {\n",
              "      margin-bottom: 4px;\n",
              "    }\n",
              "\n",
              "    [theme=dark] .colab-df-convert {\n",
              "      background-color: #3B4455;\n",
              "      fill: #D2E3FC;\n",
              "    }\n",
              "\n",
              "    [theme=dark] .colab-df-convert:hover {\n",
              "      background-color: #434B5C;\n",
              "      box-shadow: 0px 1px 3px 1px rgba(0, 0, 0, 0.15);\n",
              "      filter: drop-shadow(0px 1px 2px rgba(0, 0, 0, 0.3));\n",
              "      fill: #FFFFFF;\n",
              "    }\n",
              "  </style>\n",
              "\n",
              "    <script>\n",
              "      const buttonEl =\n",
              "        document.querySelector('#df-6c38e86a-1d87-4428-9006-471042a62c6c button.colab-df-convert');\n",
              "      buttonEl.style.display =\n",
              "        google.colab.kernel.accessAllowed ? 'block' : 'none';\n",
              "\n",
              "      async function convertToInteractive(key) {\n",
              "        const element = document.querySelector('#df-6c38e86a-1d87-4428-9006-471042a62c6c');\n",
              "        const dataTable =\n",
              "          await google.colab.kernel.invokeFunction('convertToInteractive',\n",
              "                                                    [key], {});\n",
              "        if (!dataTable) return;\n",
              "\n",
              "        const docLinkHtml = 'Like what you see? Visit the ' +\n",
              "          '<a target=\"_blank\" href=https://colab.research.google.com/notebooks/data_table.ipynb>data table notebook</a>'\n",
              "          + ' to learn more about interactive tables.';\n",
              "        element.innerHTML = '';\n",
              "        dataTable['output_type'] = 'display_data';\n",
              "        await google.colab.output.renderOutput(dataTable, element);\n",
              "        const docLink = document.createElement('div');\n",
              "        docLink.innerHTML = docLinkHtml;\n",
              "        element.appendChild(docLink);\n",
              "      }\n",
              "    </script>\n",
              "  </div>\n",
              "\n",
              "\n",
              "<div id=\"df-3cb4d013-5bef-4664-8b39-68006ad6e269\">\n",
              "  <button class=\"colab-df-quickchart\" onclick=\"quickchart('df-3cb4d013-5bef-4664-8b39-68006ad6e269')\"\n",
              "            title=\"Suggest charts\"\n",
              "            style=\"display:none;\">\n",
              "\n",
              "<svg xmlns=\"http://www.w3.org/2000/svg\" height=\"24px\"viewBox=\"0 0 24 24\"\n",
              "     width=\"24px\">\n",
              "    <g>\n",
              "        <path d=\"M19 3H5c-1.1 0-2 .9-2 2v14c0 1.1.9 2 2 2h14c1.1 0 2-.9 2-2V5c0-1.1-.9-2-2-2zM9 17H7v-7h2v7zm4 0h-2V7h2v10zm4 0h-2v-4h2v4z\"/>\n",
              "    </g>\n",
              "</svg>\n",
              "  </button>\n",
              "\n",
              "<style>\n",
              "  .colab-df-quickchart {\n",
              "      --bg-color: #E8F0FE;\n",
              "      --fill-color: #1967D2;\n",
              "      --hover-bg-color: #E2EBFA;\n",
              "      --hover-fill-color: #174EA6;\n",
              "      --disabled-fill-color: #AAA;\n",
              "      --disabled-bg-color: #DDD;\n",
              "  }\n",
              "\n",
              "  [theme=dark] .colab-df-quickchart {\n",
              "      --bg-color: #3B4455;\n",
              "      --fill-color: #D2E3FC;\n",
              "      --hover-bg-color: #434B5C;\n",
              "      --hover-fill-color: #FFFFFF;\n",
              "      --disabled-bg-color: #3B4455;\n",
              "      --disabled-fill-color: #666;\n",
              "  }\n",
              "\n",
              "  .colab-df-quickchart {\n",
              "    background-color: var(--bg-color);\n",
              "    border: none;\n",
              "    border-radius: 50%;\n",
              "    cursor: pointer;\n",
              "    display: none;\n",
              "    fill: var(--fill-color);\n",
              "    height: 32px;\n",
              "    padding: 0;\n",
              "    width: 32px;\n",
              "  }\n",
              "\n",
              "  .colab-df-quickchart:hover {\n",
              "    background-color: var(--hover-bg-color);\n",
              "    box-shadow: 0 1px 2px rgba(60, 64, 67, 0.3), 0 1px 3px 1px rgba(60, 64, 67, 0.15);\n",
              "    fill: var(--button-hover-fill-color);\n",
              "  }\n",
              "\n",
              "  .colab-df-quickchart-complete:disabled,\n",
              "  .colab-df-quickchart-complete:disabled:hover {\n",
              "    background-color: var(--disabled-bg-color);\n",
              "    fill: var(--disabled-fill-color);\n",
              "    box-shadow: none;\n",
              "  }\n",
              "\n",
              "  .colab-df-spinner {\n",
              "    border: 2px solid var(--fill-color);\n",
              "    border-color: transparent;\n",
              "    border-bottom-color: var(--fill-color);\n",
              "    animation:\n",
              "      spin 1s steps(1) infinite;\n",
              "  }\n",
              "\n",
              "  @keyframes spin {\n",
              "    0% {\n",
              "      border-color: transparent;\n",
              "      border-bottom-color: var(--fill-color);\n",
              "      border-left-color: var(--fill-color);\n",
              "    }\n",
              "    20% {\n",
              "      border-color: transparent;\n",
              "      border-left-color: var(--fill-color);\n",
              "      border-top-color: var(--fill-color);\n",
              "    }\n",
              "    30% {\n",
              "      border-color: transparent;\n",
              "      border-left-color: var(--fill-color);\n",
              "      border-top-color: var(--fill-color);\n",
              "      border-right-color: var(--fill-color);\n",
              "    }\n",
              "    40% {\n",
              "      border-color: transparent;\n",
              "      border-right-color: var(--fill-color);\n",
              "      border-top-color: var(--fill-color);\n",
              "    }\n",
              "    60% {\n",
              "      border-color: transparent;\n",
              "      border-right-color: var(--fill-color);\n",
              "    }\n",
              "    80% {\n",
              "      border-color: transparent;\n",
              "      border-right-color: var(--fill-color);\n",
              "      border-bottom-color: var(--fill-color);\n",
              "    }\n",
              "    90% {\n",
              "      border-color: transparent;\n",
              "      border-bottom-color: var(--fill-color);\n",
              "    }\n",
              "  }\n",
              "</style>\n",
              "\n",
              "  <script>\n",
              "    async function quickchart(key) {\n",
              "      const quickchartButtonEl =\n",
              "        document.querySelector('#' + key + ' button');\n",
              "      quickchartButtonEl.disabled = true;  // To prevent multiple clicks.\n",
              "      quickchartButtonEl.classList.add('colab-df-spinner');\n",
              "      try {\n",
              "        const charts = await google.colab.kernel.invokeFunction(\n",
              "            'suggestCharts', [key], {});\n",
              "      } catch (error) {\n",
              "        console.error('Error during call to suggestCharts:', error);\n",
              "      }\n",
              "      quickchartButtonEl.classList.remove('colab-df-spinner');\n",
              "      quickchartButtonEl.classList.add('colab-df-quickchart-complete');\n",
              "    }\n",
              "    (() => {\n",
              "      let quickchartButtonEl =\n",
              "        document.querySelector('#df-3cb4d013-5bef-4664-8b39-68006ad6e269 button');\n",
              "      quickchartButtonEl.style.display =\n",
              "        google.colab.kernel.accessAllowed ? 'block' : 'none';\n",
              "    })();\n",
              "  </script>\n",
              "</div>\n",
              "\n",
              "    </div>\n",
              "  </div>\n"
            ],
            "application/vnd.google.colaboratory.intrinsic+json": {
              "type": "dataframe",
              "variable_name": "df"
            }
          },
          "metadata": {},
          "execution_count": 52
        }
      ]
    },
    {
      "cell_type": "code",
      "source": [
        "print(\"Imbalance Count:\")\n",
        "print(df['class'].value_counts())"
      ],
      "metadata": {
        "colab": {
          "base_uri": "https://localhost:8080/"
        },
        "id": "qLgScpc4Suio",
        "outputId": "d4558d27-5d67-473d-a25d-360604c5bcf9"
      },
      "execution_count": null,
      "outputs": [
        {
          "output_type": "stream",
          "name": "stdout",
          "text": [
            "Imbalance Count:\n",
            "class\n",
            "1.0    107\n",
            "0.0     46\n",
            "Name: count, dtype: int64\n"
          ]
        }
      ]
    },
    {
      "cell_type": "code",
      "source": [
        "# STEP 1: Identify majority and minority class\n",
        "class_counts = df['class'].value_counts()\n",
        "majority_class = class_counts.idxmax()\n",
        "minority_class = class_counts.idxmin()\n",
        "\n",
        "majority_idx = df[df['class'] == majority_class].index\n",
        "minority_idx = df[df['class'] == minority_class].index"
      ],
      "metadata": {
        "id": "qe2chXKLSuo8"
      },
      "execution_count": null,
      "outputs": []
    },
    {
      "cell_type": "code",
      "source": [
        "# STEP 2: Hide 25% of the majority class\n",
        "hidden_size = int(len(majority_idx) * 0.25)\n",
        "hidden_majority = majority_idx[:hidden_size]\n",
        "visible_majority = majority_idx[hidden_size:]\n"
      ],
      "metadata": {
        "id": "S3ppauVMT6OS"
      },
      "execution_count": null,
      "outputs": []
    },
    {
      "cell_type": "code",
      "source": [
        "# Combine visible majority and minority for oversampling\n",
        "visible_indices = visible_majority.union(minority_idx)\n",
        "X_visible = df.loc[visible_indices].drop(columns=['class', 'id'])  # Drop ID and label\n",
        "y_visible = df.loc[visible_indices]['class']\n",
        "\n",
        "# Convert categorical columns to numeric (if any)\n",
        "X_visible = pd.get_dummies(X_visible, drop_first=True)"
      ],
      "metadata": {
        "id": "ileI7lN9Wwgm"
      },
      "execution_count": null,
      "outputs": []
    },
    {
      "cell_type": "code",
      "source": [
        "# Step 2: Apply Standard SMOTE to Balance the Data\n",
        "# -------------------------------\n",
        "smote = SMOTE(random_state=42)\n",
        "# Use X_visible and y_visible instead of X and y\n",
        "X_resampled, y_resampled = smote.fit_resample(X_visible, y_visible)\n",
        "\n",
        "# Calculate the number of synthetic samples generated\n",
        "num_original = len(X_visible) # Use X_visible here\n",
        "num_resampled = len(X_resampled)\n",
        "num_synthetic = num_resampled - num_original\n",
        "print(\"Number of synthetic samples generated:\", num_synthetic)\n"
      ],
      "metadata": {
        "id": "voflv8UuT6Qn",
        "colab": {
          "base_uri": "https://localhost:8080/"
        },
        "outputId": "2b7d7ab4-2682-4d71-c2b3-4ed199d1fb4e"
      },
      "execution_count": null,
      "outputs": [
        {
          "output_type": "stream",
          "name": "stdout",
          "text": [
            "Number of synthetic samples generated: 35\n"
          ]
        }
      ]
    },
    {
      "cell_type": "code",
      "source": [],
      "metadata": {
        "id": "wSdxBBwpwzEK"
      },
      "execution_count": null,
      "outputs": []
    },
    {
      "cell_type": "code",
      "source": [
        "# STEP 4: Extract synthetic samples only\n",
        "new_samples_count = len(X_resampled) - len(X_visible)\n",
        "X_synthetic = X_resampled[-new_samples_count:]\n",
        "y_synthetic = y_resampled[-new_samples_count:]"
      ],
      "metadata": {
        "id": "WvYhdB5MT6T_"
      },
      "execution_count": null,
      "outputs": []
    },
    {
      "cell_type": "code",
      "source": [
        "# STEP 5: Bring back hidden majority and original minority\n",
        "X_hidden_majority = df.loc[hidden_majority].drop(columns=['class', 'id'])\n",
        "X_minority = df.loc[minority_idx].drop(columns=['class', 'id'])"
      ],
      "metadata": {
        "id": "n-ucfVkXaw2z"
      },
      "execution_count": null,
      "outputs": []
    },
    {
      "cell_type": "code",
      "source": [
        "# Encode hidden majority and minority to match synthetic structure\n",
        "X_hidden_majority = pd.get_dummies(X_hidden_majority, drop_first=True)\n",
        "X_minority = pd.get_dummies(X_minority, drop_first=True)\n",
        "\n",
        "# Align column structures\n",
        "X_hidden_majority = X_hidden_majority.reindex(columns=X_synthetic.columns, fill_value=0)\n",
        "X_minority = X_minority.reindex(columns=X_synthetic.columns, fill_value=0)\n"
      ],
      "metadata": {
        "id": "bAtcYy5Raw6K"
      },
      "execution_count": null,
      "outputs": []
    },
    {
      "cell_type": "code",
      "source": [
        "ed_to_minority = pairwise_distances(X_synthetic, X_minority).min(axis=1)\n",
        "ed_to_majority = pairwise_distances(X_synthetic, X_hidden_majority).min(axis=1)\n",
        "ed_error = (ed_to_majority < ed_to_minority).sum() / len(X_synthetic)\n",
        "print(f\"Euclidean Validation Error: {ed_error:.4f}\")"
      ],
      "metadata": {
        "colab": {
          "base_uri": "https://localhost:8080/"
        },
        "id": "qX6nmzjxlm6g",
        "outputId": "3be67c6a-afd2-49e3-9926-0b341150ebc5"
      },
      "execution_count": null,
      "outputs": [
        {
          "output_type": "stream",
          "name": "stdout",
          "text": [
            "Euclidean Validation Error: 0.0000\n"
          ]
        }
      ]
    },
    {
      "cell_type": "code",
      "source": [
        "# Hassanat distance between two values\n",
        "def D(p_i, q_i):\n",
        "    if min(p_i, q_i) >= 0:\n",
        "        return 1 - (1 + min(p_i, q_i)) / (1 + max(p_i, q_i))\n",
        "    else:\n",
        "        return 1 - (1 + min(p_i, q_i) + abs(min(p_i, q_i))) / (1 + max(p_i, q_i) + abs(min(p_i, q_i)))\n",
        "\n",
        "# Hassanat distance between two vectors\n",
        "def hassanat_distance(p, q):\n",
        "    return sum(D(p_i, q_i) for p_i, q_i in zip(p, q))\n",
        "\n",
        "# Vectorized version: distance from each row in A to each row in B\n",
        "def hassanat_pairwise(A, B):\n",
        "    dist_matrix = np.zeros((A.shape[0], B.shape[0]))\n",
        "    for i in range(A.shape[0]):\n",
        "        for j in range(B.shape[0]):\n",
        "            dist_matrix[i, j] = hassanat_distance(A.iloc[i], B.iloc[j])\n",
        "    return dist_matrix\n"
      ],
      "metadata": {
        "id": "GOYU4yL6dAew"
      },
      "execution_count": null,
      "outputs": []
    },
    {
      "cell_type": "code",
      "source": [
        "# Use Hassanat distance\n",
        "\n",
        "hd_to_minority = hassanat_pairwise(X_synthetic, X_minority)\n",
        "hd_to_majority = hassanat_pairwise(X_synthetic, X_hidden_majority)\n",
        "\n",
        "dist_to_minority = hd_to_minority.min(axis=1)\n",
        "dist_to_majority = hd_to_majority.min(axis=1)\n"
      ],
      "metadata": {
        "id": "ZBcbhetuch6O"
      },
      "execution_count": null,
      "outputs": []
    },
    {
      "cell_type": "code",
      "source": [
        "# STEP 7: Validation Error\n",
        "closer_to_majority = (dist_to_majority < dist_to_minority).sum()\n",
        "total_synthetic = len(X_synthetic)\n",
        "error_rate = closer_to_majority / total_synthetic"
      ],
      "metadata": {
        "id": "pV9G9ZH-ch9u"
      },
      "execution_count": null,
      "outputs": []
    },
    {
      "cell_type": "code",
      "source": [
        "# Result\n",
        "print(f\"Validation Error: {error_rate:.4f} ({closer_to_majority}/{total_synthetic} synthetic samples were closer to the majority class)\")\n"
      ],
      "metadata": {
        "colab": {
          "base_uri": "https://localhost:8080/"
        },
        "id": "_5X1QwQjcsgd",
        "outputId": "7594f434-6c0a-48de-8206-251cb22465e9"
      },
      "execution_count": null,
      "outputs": [
        {
          "output_type": "stream",
          "name": "stdout",
          "text": [
            "Validation Error: 0.0000 (0/35 synthetic samples were closer to the majority class)\n"
          ]
        }
      ]
    }
  ]
}